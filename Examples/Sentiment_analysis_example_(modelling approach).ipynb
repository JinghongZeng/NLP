{
 "cells": [
  {
   "cell_type": "markdown",
   "id": "4a637a30",
   "metadata": {},
   "source": [
    "# Sentiment_analysis_example_GRA\n",
    "\n",
    "### Jinghong Zeng"
   ]
  },
  {
   "cell_type": "markdown",
   "id": "1a0fca14",
   "metadata": {},
   "source": [
    "This document introduces how to build a supervised model for binary sentiment classfication on movie reviews."
   ]
  },
  {
   "cell_type": "markdown",
   "id": "b6f06924",
   "metadata": {},
   "source": [
    "## Import data and functions"
   ]
  },
  {
   "cell_type": "code",
   "execution_count": 1,
   "id": "e9d2fe77",
   "metadata": {},
   "outputs": [],
   "source": [
    "from nltk.corpus import movie_reviews as mr, stopwords # mr is data\n",
    "from nltk.classify import NaiveBayesClassifier # classifier\n",
    "from nltk.probability import FreqDist\n",
    "from nltk.sentiment.util import *\n",
    "from itertools import chain, islice\n",
    "import string\n",
    "import pandas as pd"
   ]
  },
  {
   "cell_type": "markdown",
   "id": "fb3a43bc",
   "metadata": {},
   "source": [
    "## Manipulate data"
   ]
  },
  {
   "cell_type": "code",
   "execution_count": 2,
   "id": "5f07387a",
   "metadata": {},
   "outputs": [
    {
     "data": {
      "text/plain": [
       "{'review': 'plot : two teen couples go to a church party , drink and then drive . they get into an accident . one of the guys dies , but his girlfriend continues to see him in her life , and has nightmares . what\\'s the deal ? watch the movie and \" sorta \" find out . . . critique : a mind-fuck movie for the teen generation that touches on a very cool idea , but presents it in a very bad package . which is what makes this review an even harder one to write , since i generally applaud films which attempt to break the mold , mess with your head and such ( lost highway & memento ) , but there are good and bad ways of making all types of films , and these folks just didn\\'t snag this one correctly . they seem to have taken this pretty neat concept , but executed it terribly . so what are the problems',\n",
       " 'tokens': ['plot', ':', 'two', 'teen', 'couples', 'go', 'to', ...],\n",
       " 'category': ['neg']}"
      ]
     },
     "execution_count": 2,
     "metadata": {},
     "output_type": "execute_result"
    }
   ],
   "source": [
    "# An example movie review\n",
    "example = open('cv000_29416.txt', \"r\")\n",
    "{\"review\": example.read(800).replace(\"\\n\", \"\"), \n",
    " \"tokens\": mr.words('neg/cv000_29416.txt'), \n",
    " \"category\": mr.categories('neg/cv000_29416.txt')}"
   ]
  },
  {
   "cell_type": "code",
   "execution_count": 3,
   "id": "b5028b2a",
   "metadata": {},
   "outputs": [],
   "source": [
    "example.close()"
   ]
  },
  {
   "cell_type": "code",
   "execution_count": 4,
   "id": "9d58cc34",
   "metadata": {},
   "outputs": [
    {
     "data": {
      "text/plain": [
       "['neg', 'pos']"
      ]
     },
     "execution_count": 4,
     "metadata": {},
     "output_type": "execute_result"
    }
   ],
   "source": [
    "mr.categories()"
   ]
  },
  {
   "cell_type": "code",
   "execution_count": 5,
   "id": "b1f713de",
   "metadata": {},
   "outputs": [
    {
     "data": {
      "text/plain": [
       "(['plot',\n",
       "  'two',\n",
       "  'teen',\n",
       "  'couples',\n",
       "  'go',\n",
       "  'church',\n",
       "  'party',\n",
       "  'drink',\n",
       "  'drive',\n",
       "  'get'],\n",
       " 'neg')"
      ]
     },
     "execution_count": 5,
     "metadata": {},
     "output_type": "execute_result"
    }
   ],
   "source": [
    "# Create a list of (words of review, category of review)\n",
    "# Remove stop words and punctuations\n",
    "# Stop words are frequent words with no significant meaning, \n",
    "# eg., pronouns, articles\n",
    "stop = stopwords.words('english')\n",
    "document = [([w.lower() for w in mr.words(file_id) if w.lower() not in stop and w.lower() not in string.punctuation+\"--\"], category) for file_id in mr.fileids() for category in mr.categories(file_id)]\n",
    "(document[0][0][:10], document[0][1])"
   ]
  },
  {
   "cell_type": "markdown",
   "id": "a4c34a06",
   "metadata": {},
   "source": [
    "## Create features"
   ]
  },
  {
   "cell_type": "code",
   "execution_count": 6,
   "id": "e64476c7",
   "metadata": {},
   "outputs": [
    {
     "data": {
      "text/plain": [
       "39585"
      ]
     },
     "execution_count": 6,
     "metadata": {},
     "output_type": "execute_result"
    }
   ],
   "source": [
    "word_freq = FreqDist(chain(*[i for i,j in document]))\n",
    "word_freq_sorted = dict(sorted(word_freq.items(), key=lambda item: item[1], \n",
    "                               reverse = True))\n",
    "len(word_freq_sorted.keys())"
   ]
  },
  {
   "cell_type": "code",
   "execution_count": 7,
   "id": "eec4e77d",
   "metadata": {},
   "outputs": [],
   "source": [
    "# Pick 500 most frequent words as features\n",
    "features = list(word_freq_sorted.keys())[:500]"
   ]
  },
  {
   "cell_type": "code",
   "execution_count": 8,
   "id": "fcb05b79",
   "metadata": {},
   "outputs": [
    {
     "data": {
      "text/plain": [
       "['film',\n",
       " 'one',\n",
       " 'movie',\n",
       " 'like',\n",
       " 'even',\n",
       " 'good',\n",
       " 'time',\n",
       " 'story',\n",
       " 'would',\n",
       " 'much']"
      ]
     },
     "execution_count": 8,
     "metadata": {},
     "output_type": "execute_result"
    }
   ],
   "source": [
    "features[:10]"
   ]
  },
  {
   "cell_type": "code",
   "execution_count": 9,
   "id": "3e5f2639",
   "metadata": {},
   "outputs": [],
   "source": [
    "# Create features in data\n",
    "# Each feature is a binary variable, True - in this review, False - not in this review\n",
    "# Label is category\n",
    "document_pos = [({i:(i in tokens) for i in features}, category) \n",
    "                for tokens, category in document if category == \"pos\"]\n",
    "document_neg = [({i:(i in tokens) for i in features}, category) \n",
    "                for tokens, category in document if category == \"neg\"]"
   ]
  },
  {
   "cell_type": "code",
   "execution_count": 10,
   "id": "c4c33459",
   "metadata": {},
   "outputs": [
    {
     "data": {
      "text/plain": [
       "{'film': True,\n",
       " 'one': True,\n",
       " 'movie': False,\n",
       " 'like': True,\n",
       " 'even': True,\n",
       " 'good': True,\n",
       " 'time': True,\n",
       " 'story': False,\n",
       " 'would': True,\n",
       " 'much': True}"
      ]
     },
     "execution_count": 10,
     "metadata": {},
     "output_type": "execute_result"
    }
   ],
   "source": [
    "dict(islice(document_pos[0][0].items(), 10))"
   ]
  },
  {
   "cell_type": "code",
   "execution_count": 11,
   "id": "17cf5537",
   "metadata": {},
   "outputs": [],
   "source": [
    "# Create training and test data by 9:1\n",
    "train_pos = document_pos[:int(len(document_pos)*0.9)]\n",
    "test_pos = document_pos[int(len(document_pos)*0.9):]\n",
    "train_neg = document_neg[:int(len(document_neg)*0.9)]\n",
    "test_neg = document_neg[int(len(document_neg)*0.9):]\n",
    "train_data = train_pos + train_neg\n",
    "test_data = test_pos + test_neg"
   ]
  },
  {
   "cell_type": "markdown",
   "id": "90449974",
   "metadata": {},
   "source": [
    "## Train a model"
   ]
  },
  {
   "cell_type": "code",
   "execution_count": 12,
   "id": "b7645128",
   "metadata": {},
   "outputs": [],
   "source": [
    "# Use Naive Bayes classifier\n",
    "classifier = NaiveBayesClassifier.train(train_data)"
   ]
  },
  {
   "cell_type": "markdown",
   "id": "98b0ffcf",
   "metadata": {},
   "source": [
    "## Predict"
   ]
  },
  {
   "cell_type": "code",
   "execution_count": 13,
   "id": "ab4c2dbb",
   "metadata": {},
   "outputs": [
    {
     "data": {
      "text/html": [
       "<div>\n",
       "<style scoped>\n",
       "    .dataframe tbody tr th:only-of-type {\n",
       "        vertical-align: middle;\n",
       "    }\n",
       "\n",
       "    .dataframe tbody tr th {\n",
       "        vertical-align: top;\n",
       "    }\n",
       "\n",
       "    .dataframe thead th {\n",
       "        text-align: right;\n",
       "    }\n",
       "</style>\n",
       "<table border=\"1\" class=\"dataframe\">\n",
       "  <thead>\n",
       "    <tr style=\"text-align: right;\">\n",
       "      <th></th>\n",
       "      <th>Features</th>\n",
       "      <th>Label</th>\n",
       "      <th>Prediction</th>\n",
       "    </tr>\n",
       "  </thead>\n",
       "  <tbody>\n",
       "    <tr>\n",
       "      <th>0</th>\n",
       "      <td>{'film': True, 'one': True, 'movie': True, 'li...</td>\n",
       "      <td>pos</td>\n",
       "      <td>pos</td>\n",
       "    </tr>\n",
       "    <tr>\n",
       "      <th>1</th>\n",
       "      <td>{'film': True, 'one': True, 'movie': True, 'li...</td>\n",
       "      <td>pos</td>\n",
       "      <td>neg</td>\n",
       "    </tr>\n",
       "    <tr>\n",
       "      <th>2</th>\n",
       "      <td>{'film': True, 'one': True, 'movie': True, 'li...</td>\n",
       "      <td>pos</td>\n",
       "      <td>pos</td>\n",
       "    </tr>\n",
       "    <tr>\n",
       "      <th>3</th>\n",
       "      <td>{'film': True, 'one': True, 'movie': True, 'li...</td>\n",
       "      <td>pos</td>\n",
       "      <td>pos</td>\n",
       "    </tr>\n",
       "    <tr>\n",
       "      <th>4</th>\n",
       "      <td>{'film': True, 'one': False, 'movie': True, 'l...</td>\n",
       "      <td>pos</td>\n",
       "      <td>neg</td>\n",
       "    </tr>\n",
       "    <tr>\n",
       "      <th>...</th>\n",
       "      <td>...</td>\n",
       "      <td>...</td>\n",
       "      <td>...</td>\n",
       "    </tr>\n",
       "    <tr>\n",
       "      <th>195</th>\n",
       "      <td>{'film': True, 'one': True, 'movie': False, 'l...</td>\n",
       "      <td>neg</td>\n",
       "      <td>neg</td>\n",
       "    </tr>\n",
       "    <tr>\n",
       "      <th>196</th>\n",
       "      <td>{'film': True, 'one': True, 'movie': True, 'li...</td>\n",
       "      <td>neg</td>\n",
       "      <td>neg</td>\n",
       "    </tr>\n",
       "    <tr>\n",
       "      <th>197</th>\n",
       "      <td>{'film': True, 'one': True, 'movie': True, 'li...</td>\n",
       "      <td>neg</td>\n",
       "      <td>neg</td>\n",
       "    </tr>\n",
       "    <tr>\n",
       "      <th>198</th>\n",
       "      <td>{'film': True, 'one': True, 'movie': False, 'l...</td>\n",
       "      <td>neg</td>\n",
       "      <td>neg</td>\n",
       "    </tr>\n",
       "    <tr>\n",
       "      <th>199</th>\n",
       "      <td>{'film': True, 'one': True, 'movie': False, 'l...</td>\n",
       "      <td>neg</td>\n",
       "      <td>neg</td>\n",
       "    </tr>\n",
       "  </tbody>\n",
       "</table>\n",
       "<p>200 rows × 3 columns</p>\n",
       "</div>"
      ],
      "text/plain": [
       "                                              Features Label Prediction\n",
       "0    {'film': True, 'one': True, 'movie': True, 'li...   pos        pos\n",
       "1    {'film': True, 'one': True, 'movie': True, 'li...   pos        neg\n",
       "2    {'film': True, 'one': True, 'movie': True, 'li...   pos        pos\n",
       "3    {'film': True, 'one': True, 'movie': True, 'li...   pos        pos\n",
       "4    {'film': True, 'one': False, 'movie': True, 'l...   pos        neg\n",
       "..                                                 ...   ...        ...\n",
       "195  {'film': True, 'one': True, 'movie': False, 'l...   neg        neg\n",
       "196  {'film': True, 'one': True, 'movie': True, 'li...   neg        neg\n",
       "197  {'film': True, 'one': True, 'movie': True, 'li...   neg        neg\n",
       "198  {'film': True, 'one': True, 'movie': False, 'l...   neg        neg\n",
       "199  {'film': True, 'one': True, 'movie': False, 'l...   neg        neg\n",
       "\n",
       "[200 rows x 3 columns]"
      ]
     },
     "execution_count": 13,
     "metadata": {},
     "output_type": "execute_result"
    }
   ],
   "source": [
    "prediction = [classifier.classify(x[0]) for x in test_data]\n",
    "result = pd.DataFrame(test_data, columns=['Features', 'Label'])\n",
    "result[\"Prediction\"] = prediction\n",
    "result"
   ]
  },
  {
   "cell_type": "markdown",
   "id": "fd3b95c1",
   "metadata": {},
   "source": [
    "## Evaluate"
   ]
  },
  {
   "cell_type": "code",
   "execution_count": 14,
   "id": "36f0bb09",
   "metadata": {},
   "outputs": [
    {
     "data": {
      "text/plain": [
       "0.785"
      ]
     },
     "execution_count": 14,
     "metadata": {},
     "output_type": "execute_result"
    }
   ],
   "source": [
    "# Accuracy\n",
    "nltk.classify.accuracy(classifier, test_data)"
   ]
  },
  {
   "cell_type": "code",
   "execution_count": 15,
   "id": "00924f91",
   "metadata": {},
   "outputs": [
    {
     "name": "stdout",
     "output_type": "stream",
     "text": [
      "Most Informative Features\n",
      "                   worst = True              neg : pos    =      4.2 : 1.0\n",
      "                  stupid = True              neg : pos    =      4.2 : 1.0\n",
      "                  boring = True              neg : pos    =      3.3 : 1.0\n",
      "                   worse = True              neg : pos    =      2.4 : 1.0\n",
      "                supposed = True              neg : pos    =      2.3 : 1.0\n",
      "                 perfect = True              pos : neg    =      2.3 : 1.0\n",
      "                   oscar = True              pos : neg    =      2.2 : 1.0\n",
      "                    none = True              neg : pos    =      2.1 : 1.0\n",
      "                  others = True              pos : neg    =      2.0 : 1.0\n",
      "                  strong = True              pos : neg    =      2.0 : 1.0\n"
     ]
    }
   ],
   "source": [
    "# 10 most informative features\n",
    "classifier.show_most_informative_features(10)"
   ]
  }
 ],
 "metadata": {
  "kernelspec": {
   "display_name": "Python 3 (ipykernel)",
   "language": "python",
   "name": "python3"
  },
  "language_info": {
   "codemirror_mode": {
    "name": "ipython",
    "version": 3
   },
   "file_extension": ".py",
   "mimetype": "text/x-python",
   "name": "python",
   "nbconvert_exporter": "python",
   "pygments_lexer": "ipython3",
   "version": "3.10.9"
  }
 },
 "nbformat": 4,
 "nbformat_minor": 5
}
