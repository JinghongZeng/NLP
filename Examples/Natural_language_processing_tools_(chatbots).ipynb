{
 "cells": [
  {
   "cell_type": "markdown",
   "id": "03935e66",
   "metadata": {},
   "source": [
    "# Natural language processing tools_(chatbots)\n",
    "\n",
    "### Jinghong Zeng"
   ]
  },
  {
   "cell_type": "markdown",
   "id": "8ca0adcd",
   "metadata": {},
   "source": [
    "This document outlines what language-related tasks we'll try in chatbots. And we'll then try some tasks from Q&A."
   ]
  },
  {
   "cell_type": "markdown",
   "id": "9a49b0d1",
   "metadata": {},
   "source": [
    "## Chatbots"
   ]
  },
  {
   "cell_type": "markdown",
   "id": "81372769",
   "metadata": {},
   "source": [
    "Chatbots are powerful in doing different langauge-related tasks. Several tasks are demonstrated:\n",
    "\n",
    "- Text summarization\n",
    "    - Short text: ([HSBC wikipedia](https://en.wikipedia.org/wiki/HSBC#Products)) HSBC Advance is the group's product aimed at working professionals. The exact benefits and qualifications vary depending on country, but typically require a monthly direct deposit or maintain US$5,000 of deposit/investments or residential mortgage. Business owners may use commercial relationship to qualify. Advantages may vary depending on country, such as day-to-day banking services including but not limited to a Platinum Credit Card, Advance ATM Card, Current Account and Savings Account. Protection plans and Financial Planning Services. A HSBC Advance customer enables the customer to open accounts in another country and transfer their credit history.\n",
    "    - Long text: ([Natural language](https://en.wikipedia.org/wiki/Natural_language)) whole.\n",
    "- Sentiment analysis\n",
    "    - I like the book.\n",
    "    - I like the style of this article, but the content is not good.\n",
    "- Reasoning\n",
    "    - Time scheduling: (OpenAI example) Andrew is free from 11 am to 3 pm, Joanne is free from noon to 2 pm and then 3:30 pm to 5 pm. Hannah is available at noon for half an hour, and then 4 pm to 6 pm. What are some options for start times for a 30 minute meeting for Andrew, Hannah, and Joanne?"
   ]
  }
 ],
 "metadata": {
  "kernelspec": {
   "display_name": "Python 3 (ipykernel)",
   "language": "python",
   "name": "python3"
  },
  "language_info": {
   "codemirror_mode": {
    "name": "ipython",
    "version": 3
   },
   "file_extension": ".py",
   "mimetype": "text/x-python",
   "name": "python",
   "nbconvert_exporter": "python",
   "pygments_lexer": "ipython3",
   "version": "3.10.9"
  }
 },
 "nbformat": 4,
 "nbformat_minor": 5
}
