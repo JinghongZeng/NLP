{
 "cells": [
  {
   "cell_type": "markdown",
   "id": "10e3152d",
   "metadata": {},
   "source": [
    "# Sentiment analysis example: sentiment classification\n",
    "## Jinghong Zeng"
   ]
  },
  {
   "cell_type": "markdown",
   "id": "98ddd427",
   "metadata": {},
   "source": [
    "This notebook describes a simple example for sentiment analysis. It is an example of the lexicon-based approach in sentiment classification. This example analyzes sentiments in sentences."
   ]
  },
  {
   "cell_type": "markdown",
   "id": "3793b45d",
   "metadata": {},
   "source": [
    "## Example"
   ]
  },
  {
   "cell_type": "markdown",
   "id": "b1fc2f5d",
   "metadata": {},
   "source": [
    "The first step is to create a sentiment lexcion, which contains sentimnet scores for some words. For example, positive words have positive scores, and negative words have negative scores. The magnitude of the sentiment scores shows how strong the sentiments are. Zero scores mean neutral sentiments."
   ]
  },
  {
   "cell_type": "code",
   "execution_count": 1,
   "id": "d1029f0a",
   "metadata": {},
   "outputs": [],
   "source": [
    "# Create a sentiment lexicon, that is, pre-define word sentiments\n",
    "lexicon = {\"like\": 2,\n",
    "          \"good\": 1,\n",
    "          \"not\": -3,\n",
    "          \"bad\": -1}"
   ]
  },
  {
   "cell_type": "code",
   "execution_count": 2,
   "id": "9ad17d62",
   "metadata": {},
   "outputs": [],
   "source": [
    "# Create a text with sentences of different sentiments\n",
    "sentence = [\"I like the book\",\n",
    "           \"I do not lie the pen.\",\n",
    "           \"Where are you?\",\n",
    "           \"I like the style of this article, but the content is not good.\"]"
   ]
  },
  {
   "cell_type": "code",
   "execution_count": 4,
   "id": "4baa11a3",
   "metadata": {},
   "outputs": [
    {
     "data": {
      "text/plain": [
       "[['I', 'like', 'the', 'book'],\n",
       " ['I', 'do', 'not', 'lie', 'the', 'pen'],\n",
       " ['Where', 'are', 'you'],\n",
       " ['I',\n",
       "  'like',\n",
       "  'the',\n",
       "  'style',\n",
       "  'of',\n",
       "  'this',\n",
       "  'article',\n",
       "  'but',\n",
       "  'the',\n",
       "  'content',\n",
       "  'is',\n",
       "  'not',\n",
       "  'good']]"
      ]
     },
     "execution_count": 4,
     "metadata": {},
     "output_type": "execute_result"
    }
   ],
   "source": [
    "# Split words in each sentence and remove the punctuations\n",
    "import string\n",
    "tmp = [s.translate(str.maketrans(\"\", \"\", string.punctuation)).split() for s in sentence]\n",
    "tmp"
   ]
  },
  {
   "cell_type": "code",
   "execution_count": 5,
   "id": "262572bd",
   "metadata": {},
   "outputs": [],
   "source": [
    "# Calculate sentiment score for each sentence\n",
    "sentiment = {}\n",
    "for i in range(len(tmp)): # for each sentence\n",
    "    sentiment[sentence[i]] = 0\n",
    "    for w in tmp[i]: # for each word in each sentence\n",
    "        if w in lexicon:\n",
    "            sentiment[sentence[i]] += lexicon[w]"
   ]
  },
  {
   "cell_type": "code",
   "execution_count": 6,
   "id": "0fce71fa",
   "metadata": {},
   "outputs": [
    {
     "data": {
      "text/plain": [
       "{'I like the book': 2,\n",
       " 'I do not lie the pen.': -3,\n",
       " 'Where are you?': 0,\n",
       " 'I like the style of this article, but the content is not good.': 0}"
      ]
     },
     "execution_count": 6,
     "metadata": {},
     "output_type": "execute_result"
    }
   ],
   "source": [
    "sentiment"
   ]
  },
  {
   "cell_type": "code",
   "execution_count": 7,
   "id": "59df34e4",
   "metadata": {},
   "outputs": [
    {
     "data": {
      "text/plain": [
       "{'I like the book': 'Positive',\n",
       " 'I do not lie the pen.': 'Negative',\n",
       " 'Where are you?': 'Neutral',\n",
       " 'I like the style of this article, but the content is not good.': 'Neutral'}"
      ]
     },
     "execution_count": 7,
     "metadata": {},
     "output_type": "execute_result"
    }
   ],
   "source": [
    "# Convert sentiment scores to sentiment classes\n",
    "for v in sentiment.keys():\n",
    "    if sentiment[v] > 0:\n",
    "        sentiment[v] = \"Positive\"\n",
    "    elif sentiment[v] < 0:\n",
    "        sentiment[v] = \"Negative\"\n",
    "    else:\n",
    "        sentiment[v] = \"Neutral\"\n",
    "sentiment"
   ]
  },
  {
   "cell_type": "markdown",
   "id": "5c5bcc84",
   "metadata": {},
   "source": [
    "## Comments"
   ]
  },
  {
   "cell_type": "markdown",
   "id": "8143aa83",
   "metadata": {},
   "source": [
    "- One advanced sentiment lexicon is [SentiWordNet](https://github.com/aesuli/SentiWordNet), developed by Baccianella et al. (2010). The lexicon is [here](https://raw.githubusercontent.com/aesuli/SentiWordNet/master/data/SentiWordNet_3.0.0.txt).\n",
    "- One advanced application is from sentence-level sentiment to aspect-level sentiment.\n",
    "- Common machine learning methods for textual sentiment ananlysis include Naive Bayes, Support Vector Machine, Neural Network (CNN, RNN).\n",
    "- SA can be done on image.\n",
    "    1. Visual sentiment analysis. For exmaple, Convoluational Neural Networks (CNNs).\n",
    "    2. Visual-textual sentiment analysis. For example, advanced fusion methods (Bilinear Pooling)"
   ]
  }
 ],
 "metadata": {
  "kernelspec": {
   "display_name": "Python 3 (ipykernel)",
   "language": "python",
   "name": "python3"
  },
  "language_info": {
   "codemirror_mode": {
    "name": "ipython",
    "version": 3
   },
   "file_extension": ".py",
   "mimetype": "text/x-python",
   "name": "python",
   "nbconvert_exporter": "python",
   "pygments_lexer": "ipython3",
   "version": "3.10.9"
  }
 },
 "nbformat": 4,
 "nbformat_minor": 5
}
